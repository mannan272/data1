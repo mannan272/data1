{
 "cells": [
  {
   "cell_type": "markdown",
   "metadata": {},
   "source": [
    "<a class=\"anchor\" id=\"ex\"></a>\n",
    "# Assignment\n",
    "\n",
    "We have provided a spreadsheet of Boston housing prices (data/boston_housing.csv). The 14 columns are as follows:\n",
    "1. `CRIM`: per capita crime rate by town\n",
    "2. `ZN`: proportion of residential land zoned for lots over 25,000 sq.ft.\n",
    "3. `INDUS`: proportion of non-retail business acres per town\n",
    "4. `CHAS`: Charles River dummy variable (= 1 if tract bounds river; 0 otherwise)\n",
    "5. `NOX`: nitric oxides concentration (parts per 10 million)\n",
    "6. `RM`: average number of rooms per dwelling\n",
    "7. `AGE`: proportion of owner-occupied units built prior to 1940\n",
    "8. `DIS`: weighted distances to ﬁve Boston employment centers\n",
    "9. `RAD`: index of accessibility to radial highways\n",
    "10. `TAX`: full-value property-tax rate per \\$10,000\n",
    "11. `PTRATIO`: pupil-teacher ratio by town\n",
    "12. `B`: 1000(Bk−0.63)2 where Bk is the proportion of blacks by town\n",
    "13. `LSTAT`: % lower status of the population\n",
    "14. `MEDV`: Median value of owner-occupied homes in $1000s We can see that the input attributes have a mixture of units\n",
    "\n",
    "There are 450 observations.\n",
    "\n",
    "Using the above file, try your best to predict **housing prices. (the 14th column)** We have provided a test set `data/boston_housing_test.csv` but refrain from looking at the file or evaluating on it until you have finalized and trained a model.\n",
    "1. Load in the data. It is tab-delimited. Quickly look at a summary of the data to familiarize yourself with it and ensure nothing is too egregious.\n",
    "2. Use a previously-discussed function to automatically partition the data into a training and validation (aka development) set. It is up to you to choose how large these two portions should be.\n",
    "3. Create a multivariate regression model to explain the Median value of owner-occupied homes. Use as many variables as you like from the data provoded (at least 4)\n",
    "4. Interpret the magnitude of each coefficient, the sign and the significance level\n",
    "5. Create another regression by including two more variables. If you used them all before, exclude two from the new regression. Discuss if the new model provides a better or worse fit for the data. How did you reach your conclusion?\n",
    "    "
   ]
  }
 ],
 "metadata": {
  "language_info": {
   "name": "python"
  }
 },
 "nbformat": 4,
 "nbformat_minor": 2
}
